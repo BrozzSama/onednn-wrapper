{
 "cells": [
  {
   "cell_type": "markdown",
   "metadata": {},
   "source": [
    "# Data Analysis on oneDNN output\n",
    "\n",
    "This notebook contains a series of useful scripts that allow to benchmark the performance of onednn-wrapper applications"
   ]
  },
  {
   "cell_type": "code",
   "execution_count": 3,
   "metadata": {},
   "outputs": [
    {
     "ename": "ModuleNotFoundError",
     "evalue": "No module named 'pandas'",
     "output_type": "error",
     "traceback": [
      "\u001b[0;31m---------------------------------------------------------------------------\u001b[0m",
      "\u001b[0;31mModuleNotFoundError\u001b[0m                       Traceback (most recent call last)",
      "\u001b[0;32m<ipython-input-3-c2ae7aec6be8>\u001b[0m in \u001b[0;36m<module>\u001b[0;34m\u001b[0m\n\u001b[1;32m      1\u001b[0m \u001b[0;32mimport\u001b[0m \u001b[0mmatplotlib\u001b[0m\u001b[0;34m.\u001b[0m\u001b[0mpyplot\u001b[0m \u001b[0;32mas\u001b[0m \u001b[0mplt\u001b[0m\u001b[0;34m\u001b[0m\u001b[0;34m\u001b[0m\u001b[0m\n\u001b[1;32m      2\u001b[0m \u001b[0;32mimport\u001b[0m \u001b[0mnumpy\u001b[0m \u001b[0;32mas\u001b[0m \u001b[0mnp\u001b[0m\u001b[0;34m\u001b[0m\u001b[0;34m\u001b[0m\u001b[0m\n\u001b[0;32m----> 3\u001b[0;31m \u001b[0;32mimport\u001b[0m \u001b[0mpandas\u001b[0m \u001b[0;32mas\u001b[0m \u001b[0mpd\u001b[0m\u001b[0;34m\u001b[0m\u001b[0;34m\u001b[0m\u001b[0m\n\u001b[0m",
      "\u001b[0;31mModuleNotFoundError\u001b[0m: No module named 'pandas'"
     ]
    }
   ],
   "source": [
    "import matplotlib.pyplot as plt\n",
    "import numpy as np\n",
    "import pandas as pd"
   ]
  },
  {
   "cell_type": "markdown",
   "metadata": {},
   "source": [
    "***\n",
    "# Loss and Accuracy behaviour"
   ]
  },
  {
   "cell_type": "markdown",
   "metadata": {},
   "source": [
    "Starting from the numpy file containing the loss we can check whether our network is learning"
   ]
  },
  {
   "cell_type": "markdown",
   "metadata": {},
   "source": [
    "### Skin dataset\n",
    "\n",
    "This code is meant to be run using the skin dataset and associated configuration file"
   ]
  },
  {
   "cell_type": "code",
   "execution_count": 4,
   "metadata": {},
   "outputs": [
    {
     "data": {
      "text/plain": [
       "<matplotlib.legend.Legend at 0x7fb0fbc25d50>"
      ]
     },
     "execution_count": 4,
     "metadata": {},
     "output_type": "execute_result"
    },
    {
     "data": {
      "image/png": "[encoded data removed]",
      "text/plain": [
       "<Figure size 432x288 with 1 Axes>"
      ]
     },
     "metadata": {
      "needs_background": "light"
     },
     "output_type": "display_data"
    }
   ],
   "source": [
    "loss_cpu = np.load(\"data/losses/skin_loss_cpu.npy\")\n",
    "loss_cpu_val = np.load(\"data/losses/skin_loss_cpu_inf.npy\")\n",
    "loss_gpu = np.load(\"data/losses/skin_loss_gpu.npy\")\n",
    "loss_gpu_val = np.load(\"data/losses/skin_loss_gpu_inf.npy\")\n",
    "\n",
    "\n",
    "plt.plot(loss_cpu, label=\"CPU\")\n",
    "plt.plot(loss_cpu_val, label=\"CPU Val\")\n",
    "plt.plot(loss_gpu, label=\"GPU\")\n",
    "plt.plot(loss_gpu_val, label=\"GPU Val\")\n",
    "\n",
    "plt.legend()"
   ]
  },
  {
   "cell_type": "code",
   "execution_count": 2,
   "metadata": {},
   "outputs": [
    {
     "name": "stdout",
     "output_type": "stream",
     "text": [
      "CPU Accuracy:  0.9196755027422303\n",
      "GPU Accuracy:  0.9347740924523374\n"
     ]
    }
   ],
   "source": [
    "val_predicted = np.load(\"data/val_predicted.npy\")\n",
    "val_predicted_gpu = np.load(\"data/val_predicted_gpu.npy\")\n",
    "val_true = np.loadtxt(\"data/label_skin_val.txt\")\n",
    "\n",
    "predicted = (val_predicted > 0.5) * 1\n",
    "predicted_gpu = (val_predicted_gpu > 0.5) * 1\n",
    "\n",
    "accuracy = np.sum(predicted == val_true)/val_true.shape[0]\n",
    "accuracy_gpu = np.sum(predicted_gpu == val_true)/val_true.shape[0]\n",
    "\n",
    "print(\"CPU Accuracy: \", accuracy)\n",
    "print(\"GPU Accuracy: \", accuracy_gpu)\n"
   ]
  },
  {
   "cell_type": "markdown",
   "metadata": {},
   "source": [
    "## MNIST"
   ]
  },
  {
   "cell_type": "code",
   "execution_count": null,
   "metadata": {},
   "outputs": [],
   "source": [
    "loss_cpu = np.load(\"data/losses/mnist_loss_cpu.npy\")\n",
    "loss_cpu_val = np.load(\"data/losses/mnist_loss_cpu_inf.npy\")\n",
    "loss_gpu = np.load(\"data/losses/mnist_loss_gpu.npy\")\n",
    "loss_gpu_val = np.load(\"data/losses/mnist_loss_gpu_inf.npy\")\n",
    "\n",
    "\n",
    "plt.plot(loss_cpu, label=\"CPU\")\n",
    "plt.plot(loss_cpu_val, label=\"CPU Val\")\n",
    "plt.plot(loss_gpu, label=\"GPU\")\n",
    "plt.plot(loss_gpu_val, label=\"GPU Val\")\n",
    "\n",
    "plt.legend()"
   ]
  },
  {
   "cell_type": "markdown",
   "metadata": {},
   "source": [
    "# Performance analysis"
   ]
  },
  {
   "cell_type": "code",
   "execution_count": null,
   "metadata": {},
   "outputs": [],
   "source": [
    "cpu_log = pd.read_csv(\"cpu_verbose_10000.log\")\n",
    "gpu_log = pd.read_csv(\"gpu_verbose_10000.log\")\n",
    "\n",
    "cputime = cpu_log[\"exec_time\"].sum()\n",
    "gputime = gpu_log[\"exec_time\"].sum()"
   ]
  },
  {
   "cell_type": "code",
   "execution_count": null,
   "metadata": {},
   "outputs": [],
   "source": [
    "fig = plt.figure()\n",
    "ax = fig.add_axes([0,0,1,1])\n",
    "langs = ['CPU', 'GPU']\n",
    "students = [cputime,gputime]\n",
    "ax.bar(langs,students)\n",
    "plt.ylabel(\"Time (s)\")\n",
    "plt.gcf().savefig(\"cpu_vs_gpu_time.png\", bbox_inches='tight')\n",
    "plt.show()"
   ]
  },
  {
   "cell_type": "code",
   "execution_count": null,
   "metadata": {},
   "outputs": [],
   "source": [
    "runs_cpu = []\n",
    "runs_gpu = []\n",
    "batch_sizes = [10, 100, 1000, 10000]\n",
    "\n",
    "for i in batch_sizes:\n",
    "    runs_cpu.append(pd.read_csv(\"cpu_verbose_\" + str(i) + \".log\"))\n",
    "    runs_gpu.append(pd.read_csv(\"gpu_verbose_\" + str(i) + \".log\"))"
   ]
  },
  {
   "cell_type": "code",
   "execution_count": null,
   "metadata": {},
   "outputs": [],
   "source": [
    "labels = [\"10\", \"100\", \"1000\", \"10000\"]\n",
    "men_means = times_cpu\n",
    "women_means = times_gpu\n",
    "\n",
    "x = np.arange(len(labels))  # the label locations\n",
    "width = 0.35  # the width of the bars\n",
    "\n",
    "fig, ax = plt.subplots()\n",
    "rects1 = ax.bar(x - width/2, men_means, width, label='CPU')\n",
    "rects2 = ax.bar(x + width/2, women_means, width, label='GPU')\n",
    "\n",
    "# Add some text for labels, title and custom x-axis tick labels, etc.\n",
    "ax.set_ylabel('Execution time (s)')\n",
    "ax.set_title('Execution time with different batch size')\n",
    "ax.set_xticks(x)\n",
    "ax.set_xticklabels(labels)\n",
    "ax.legend()\n",
    "\n",
    "\n",
    "fig.tight_layout()\n",
    "plt.xlabel(\"Batch size\")\n",
    "plt.savefig(\"time_with_diff_batchsize.png\")\n",
    "plt.show()"
   ]
  }
 ],
 "metadata": {
  "interpreter": {
   "hash": "4a77e06aa8015d22625a29c74d73373d8f1c8444da9e9ef7a492568f48a647b6"
  },
  "kernelspec": {
   "display_name": "Python 3.7.9 64-bit ('base': conda)",
   "name": "python3"
  },
  "language_info": {
   "codemirror_mode": {
    "name": "ipython",
    "version": 3
   },
   "file_extension": ".py",
   "mimetype": "text/x-python",
   "name": "python",
   "nbconvert_exporter": "python",
   "pygments_lexer": "ipython3",
   "version": "3.7.9"
  },
  "toc": {
   "base_numbering": 1,
   "nav_menu": {},
   "number_sections": true,
   "sideBar": true,
   "skip_h1_title": false,
   "title_cell": "Table of Contents",
   "title_sidebar": "Contents",
   "toc_cell": false,
   "toc_position": {
    "height": "525.6px",
    "left": "28px",
    "top": "137.8px",
    "width": "301.109px"
   },
   "toc_section_display": true,
   "toc_window_display": true
  }
 },
 "nbformat": 4,
 "nbformat_minor": 2
}