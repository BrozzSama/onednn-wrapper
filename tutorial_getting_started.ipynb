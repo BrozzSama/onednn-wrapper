{
 "cells": [
  {
   "cell_type": "markdown",
   "metadata": {},
   "source": [
    "# Training a neural network on oneDNN\n",
    "\n",
    "## Objective\n",
    "The goal of this notebook is to walkthrough the procedure of training a simple neural network using oneDNN on GPU.\n"
   ]
  },
  {
   "cell_type": "markdown",
   "metadata": {},
   "source": [
    "***\n",
    "# Environment variables"
   ]
  },
  {
   "cell_type": "markdown",
   "metadata": {},
   "source": [
    "The first step is to setup all the environment variable in order for the compiler to find all the necessary header files.\n"
   ]
  },
  {
   "cell_type": "markdown",
   "metadata": {},
   "source": [
    "Set the installation path of your oneAPI toolkit"
   ]
  },
  {
   "cell_type": "code",
   "execution_count": 1,
   "metadata": {},
   "outputs": [
    {
     "output_type": "stream",
     "name": "stdout",
     "text": [
      "env: ONEAPI_INSTALL=/opt/intel/oneapi\n"
     ]
    }
   ],
   "source": [
    "%env ONEAPI_INSTALL=/opt/intel/oneapi"
   ]
  },
  {
   "cell_type": "code",
   "execution_count": 2,
   "metadata": {},
   "outputs": [],
   "source": [
    "import os\n",
    "if os.path.isdir(os.environ['ONEAPI_INSTALL']) == False:\n",
    "    print(\"ERROR! wrong oneAPI installation path\")"
   ]
  },
  {
   "cell_type": "markdown",
   "metadata": {},
   "source": [
    "# Build and Run with oneAPI DPC++ Compiler \n",
    "one of the oneDNN configurations supports oneAPI DPC++ compiler, and it can run on different architectures by using DPC++.\n",
    "The following section shows you how to build with DPC++ and run on different architectures."
   ]
  },
  {
   "cell_type": "markdown",
   "metadata": {},
   "source": [
    "#### Script - build.sh\n",
    "The script **build.sh** encapsulates the compiler **dpcpp** command and flags that will generate the exectuable.\n",
    "In order to use DPC++ compiler and related SYCL runtime, some definitions must be passed as cmake arguments.\n",
    "Here are related cmake arguments for DPC++ configuration : \n",
    "\n",
    "   -DCMAKE_C_COMPILER=clang -DCMAKE_CXX_COMPILER=dpcpp -DDNNL_CPU_RUNTIME=SYCL -DDNNL_GPU_RUNTIME=SYCL"
   ]
  },
  {
   "cell_type": "code",
   "execution_count": 3,
   "metadata": {},
   "outputs": [
    {
     "output_type": "stream",
     "name": "stdout",
     "text": [
      "Overwriting build.sh\n"
     ]
    }
   ],
   "source": [
    "%%writefile build.sh\n",
    "#!/bin/bash\n",
    "source $ONEAPI_INSTALL/setvars.sh --force> /dev/null 2>&1\n",
    "export EXAMPLE_ROOT=./src/\n",
    "mkdir dpcpp\n",
    "cd dpcpp\n",
    "cmake ../src -DCMAKE_C_COMPILER=clang -DCMAKE_CXX_COMPILER=dpcpp -DDNNL_CPU_RUNTIME=SYCL -DDNNL_GPU_RUNTIME=SYCL\n",
    "make onednn-training-cpp\n",
    "\n"
   ]
  },
  {
   "cell_type": "markdown",
   "metadata": {},
   "source": [
    "Once you achieve an all-clear from your compilation, you execute your program on the DevCloud or a local machine.\n",
    "\n",
    "#### Script - run.sh\n",
    "the script **run.sh** encapsulates the program for submission to the job queue for execution.\n",
    "By default, the built program uses CPU as the execution engine, but the user can switch to GPU by giving an input argument \"gpu\".\n",
    "The user can refer run.sh below to run on GPU.\n",
    "To run on CPU, simply remove the input argument \"gpu\" ."
   ]
  },
  {
   "cell_type": "code",
   "execution_count": 4,
   "metadata": {},
   "outputs": [
    {
     "output_type": "stream",
     "name": "stdout",
     "text": [
      "Overwriting run.sh\n"
     ]
    }
   ],
   "source": [
    "%%writefile run.sh\n",
    "#!/bin/bash\n",
    "source $ONEAPI_INSTALL/setvars.sh --force > /dev/null 2>&1\n",
    "echo \"########## Executing the run\"\n",
    "./dpcpp/onednn-training-cpp gpu\n",
    "echo \"########## Done with the run\"\n"
   ]
  },
  {
   "cell_type": "markdown",
   "metadata": {},
   "source": [
    "\n",
    "#### Submitting **build.sh** and **run.sh** to the job queue\n",
    "Now we can submit the **build.sh** and **run.sh** to the job queue.\n",
    "##### NOTE - it is possible to execute any of the build and run commands in local environments.\n",
    "To enable users to run their scripts both on the Intel DevCloud or in local environments, this and subsequent training checks for the existence of the job submission command **qsub**.  If the check fails, it is assumed that build/run will be local."
   ]
  },
  {
   "cell_type": "code",
   "execution_count": 19,
   "metadata": {
    "scrolled": false
   },
   "outputs": [
    {
     "output_type": "stream",
     "name": "stdout",
     "text": [
      "Submitting job:\n",
      "832687.v-qsvr-1.aidevcloud\n",
      "Job ID                    Name             User            Time Use S Queue\n",
      "------------------------- ---------------- --------------- -------- - -----\n",
      "832687.v-qsvr-1            build.sh         u64761                 0 Q batch          \n",
      "Waiting for Output........................................\n",
      "########################################################################\n",
      "#      Date:           Sun 18 Apr 2021 02:00:05 PM PDT\n",
      "#    Job ID:           832687.v-qsvr-1.aidevcloud\n",
      "#      User:           u64761\n",
      "# Resources:           neednodes=1:gpu:ppn=2,nodes=1:gpu:ppn=2,walltime=06:00:00\n",
      "########################################################################\n",
      "\n",
      " \n",
      ":: initializing oneAPI environment ...\n",
      "   832687.v-qsvr-1.aidevcloud.SC: BASH_VERSION = 5.0.17(1)-release\n",
      ":: advisor -- latest\n",
      ":: ccl -- latest\n",
      ":: clck -- latest\n",
      ":: compiler -- latest\n",
      ":: dal -- latest\n",
      ":: debugger -- latest\n",
      ":: dev-utilities -- latest\n",
      ":: dnnl -- latest\n",
      ":: dpcpp-ct -- latest\n",
      ":: dpl -- latest\n",
      ":: embree -- latest\n",
      ":: iLiT -- latest\n",
      ":: inspector -- latest\n",
      ":: intelfpgadpcpp -- latest\n",
      ":: intelpython -- latest\n",
      ":: ipp -- latest\n",
      ":: ippcp -- latest\n",
      ":: ipp -- latest\n",
      ":: itac -- latest\n",
      ":: mkl -- latest\n",
      ":: modelzoo -- latest\n",
      ":: mpi -- latest\n",
      ":: oidn -- latest\n",
      ":: openvkl -- latest\n",
      ":: ospray -- latest\n",
      ":: ospray_studio -- latest\n",
      ":: pytorch -- latest\n",
      ":: rkcommon -- latest\n",
      ":: rkutil -- latest\n",
      ":: tbb -- latest\n",
      ":: tensorflow -- latest\n",
      ":: vpl -- latest\n",
      ":: vtune -- latest\n",
      ":: oneAPI environment initialized ::\n",
      " \n",
      "-- The C compiler identification is Clang 12.0.0\n",
      "-- The CXX compiler identification is Clang 12.0.0\n",
      "-- Check for working C compiler: /glob/development-tools/versions/oneapi/2021.2/inteloneapi/compiler/2021.2.0/linux/bin/clang\n",
      "-- Check for working C compiler: /glob/development-tools/versions/oneapi/2021.2/inteloneapi/compiler/2021.2.0/linux/bin/clang -- works\n",
      "-- Detecting C compiler ABI info\n",
      "-- Detecting C compiler ABI info - done\n",
      "-- Detecting C compile features\n",
      "-- Detecting C compile features - done\n",
      "-- Check for working CXX compiler: /glob/development-tools/versions/oneapi/2021.2/inteloneapi/compiler/2021.2.0/linux/bin/dpcpp\n",
      "-- Check for working CXX compiler: /glob/development-tools/versions/oneapi/2021.2/inteloneapi/compiler/2021.2.0/linux/bin/dpcpp -- works\n",
      "-- Detecting CXX compiler ABI info\n",
      "-- Detecting CXX compiler ABI info - done\n",
      "-- Detecting CXX compile features\n",
      "-- Detecting CXX compile features - done\n",
      "-- DNNLROOT: /glob/development-tools/versions/oneapi/2021.2/inteloneapi/dnnl/2021.2.0/cpu_dpcpp_gpu_dpcpp\n",
      "-- DNNLDIR: /glob/development-tools/versions/oneapi/2021.2/inteloneapi/dnnl/2021.2.0/lib/cmake/dnnl\n",
      "-- Could NOT find OpenMP_C (missing: OpenMP_C_FLAGS OpenMP_C_LIB_NAMES) \n",
      "-- Could NOT find OpenMP_CXX (missing: OpenMP_CXX_FLAGS OpenMP_CXX_LIB_NAMES) \n",
      "-- Could NOT find OpenMP (missing: OpenMP_C_FOUND OpenMP_CXX_FOUND) \n",
      "-- DNNL_CONFIGURATION: cpu_dpcpp_gpu_dpcpp\n",
      "-- Configuring done\n",
      "-- Generating done\n",
      "-- Build files have been written to: /home/u64761/onednn_training/dpcpp\n",
      "Scanning dependencies of target onednn-training-cpp\n",
      "[ 50%] Building CXX object CMakeFiles/onednn-training-cpp.dir/onednn_training.cpp.o\n",
      "[100%] Linking CXX executable onednn-training-cpp\n",
      "[100%] Built target onednn-training-cpp\n",
      "\n",
      "########################################################################\n",
      "# End of output for job 832687.v-qsvr-1.aidevcloud\n",
      "# Date: Sun 18 Apr 2021 02:00:42 PM PDT\n",
      "########################################################################\n",
      "\n",
      "CMake Warning:\n",
      "  Manually-specified variables were not used by the project:\n",
      "\n",
      "    DNNL_VERBOSE\n",
      "\n",
      "\n",
      "Submitting job:\n",
      "832688.v-qsvr-1.aidevcloud\n",
      "Job ID                    Name             User            Time Use S Queue\n",
      "------------------------- ---------------- --------------- -------- - -----\n",
      "832688.v-qsvr-1            run.sh           u64761                 0 Q batch          \n",
      "Waiting for Output.............................................................TimeOut 60 seconds: Job is still queued for execution, check for output file later (*.sh.o)\n",
      "cat: 'run.sh.o*': No such file or directory\n",
      "cat: 'run.sh.e*': No such file or directory\n"
     ]
    }
   ],
   "source": [
    "! rm -rf dpcpp;chmod 755 q; chmod 755 build.sh; chmod 755 run.sh;if [ -x \"$(command -v qsub)\" ]; then ./q build.sh; ./q run.sh; else ./build.sh; ./run.sh; fi"
   ]
  },
  {
   "cell_type": "code",
   "execution_count": 1,
   "metadata": {},
   "outputs": [
    {
     "output_type": "stream",
     "name": "stdout",
     "text": [
      "1\n2\n3\n4\n5\n6\n7\n8\n9\n10\n11\n12\n13\n14\n15\n16\n17\n18\n19\n20\n21\n22\n23\n24\n25\n26\n27\n28\n29\n"
     ]
    },
    {
     "output_type": "execute_result",
     "data": {
      "text/plain": [
       "(29, 400)"
      ]
     },
     "metadata": {},
     "execution_count": 1
    }
   ],
   "source": [
    "import numpy as np\n",
    "\n",
    "iteration = np.load(\"data/losses/iteration_0.npy\")\n",
    "\n",
    "# iterations = np.zeros([len(range(10,360,10)), iteration.shape[0]])\n",
    "\n",
    "iterations = np.zeros([len(range(1,30,1)), iteration.shape[0]])\n",
    "\n",
    "for count, iteration_number in enumerate(range(1,30,1)):\n",
    "    print(iteration_number)\n",
    "    iterations[count, :] = np.load(\"data/losses/iteration_\" + str(iteration_number) + \".npy\")\n",
    "\n",
    "iterations.shape\n"
   ]
  },
  {
   "cell_type": "code",
   "execution_count": 2,
   "metadata": {},
   "outputs": [
    {
     "output_type": "execute_result",
     "data": {
      "text/plain": [
       "array([-0.48004901, -0.46916422, -0.45882425, -0.43727967, -0.43008596,\n",
       "       -0.42868227, -0.42837924, -0.42613274, -0.42203677, -0.42100587,\n",
       "       -0.41033712, -0.40994117, -0.40335804, -0.39090154, -0.38398564,\n",
       "       -0.38258237, -0.38179058, -0.37752455, -0.37673515, -0.37635684,\n",
       "       -0.37374812, -0.37171769, -0.36726806, -0.36661422, -0.36428374,\n",
       "       -0.363168  , -0.36309779, -0.36239809, -0.35446969, -0.35114315,\n",
       "       -0.35008007, -0.34949523, -0.34927917, -0.34715092, -0.34600496,\n",
       "       -0.34580797, -0.34478033, -0.34429285, -0.34376609, -0.34289497,\n",
       "       -0.34286699, -0.34236884, -0.34194189, -0.34115109, -0.33980662,\n",
       "       -0.33957356, -0.33883485, -0.33595127, -0.33253521, -0.3324739 ,\n",
       "       -0.33169001, -0.32848284, -0.32792562, -0.32557979, -0.32112598,\n",
       "       -0.32044166, -0.32005829, -0.31877658, -0.31815213, -0.31653643,\n",
       "       -0.31536269, -0.31230557, -0.31201538, -0.31078148, -0.30872768,\n",
       "       -0.30818051, -0.30804542, -0.30751908, -0.30586693, -0.30531591,\n",
       "       -0.30516052, -0.30496126, -0.30385759, -0.30375707, -0.30371252,\n",
       "       -0.30367464, -0.30101663, -0.30041352, -0.30036384, -0.3003619 ,\n",
       "       -0.29966003, -0.29956692, -0.2986154 , -0.29851732, -0.29753658,\n",
       "       -0.29726255, -0.29669851, -0.29665118, -0.29653901, -0.29377717,\n",
       "       -0.29362771, -0.29233295, -0.29201084, -0.29131332, -0.2899071 ,\n",
       "       -0.28968471, -0.28957123, -0.287844  , -0.28671548, -0.28577769,\n",
       "       -0.28507262, -0.2850405 , -0.28427625, -0.28422427, -0.28367889,\n",
       "       -0.28346246, -0.28329694, -0.28249004, -0.28187373, -0.28149563,\n",
       "       -0.28025529, -0.28012684, -0.27907673, -0.27855313, -0.2780208 ,\n",
       "       -0.27757928, -0.27712235, -0.27643257, -0.27608663, -0.27572101,\n",
       "       -0.27539301, -0.27537033, -0.27490047, -0.27387279, -0.27341479,\n",
       "       -0.27134639, -0.26997828, -0.26800632, -0.26753578, -0.26541018,\n",
       "       -0.26525944, -0.26226664, -0.26121348, -0.26095057, -0.25997066,\n",
       "       -0.25882661, -0.2565285 , -0.25550443, -0.25436449, -0.25436336,\n",
       "       -0.25386333, -0.25003889, -0.24982956, -0.24638155, -0.24563205,\n",
       "       -0.24475875, -0.2443521 , -0.24304497, -0.2429648 , -0.24107128,\n",
       "       -0.24014646, -0.24012518, -0.2398349 , -0.23967555, -0.23957613,\n",
       "       -0.23941892, -0.23913819, -0.23794627, -0.2373915 , -0.23716664,\n",
       "       -0.23607513, -0.23541757, -0.23529208, -0.2349914 , -0.23348451,\n",
       "       -0.23324686, -0.23253024, -0.23007566, -0.22975588, -0.22942874,\n",
       "       -0.22765726, -0.22654566, -0.22621119, -0.22599518, -0.22580877,\n",
       "       -0.22564781, -0.22538313, -0.22354025, -0.22298297, -0.22276849,\n",
       "       -0.22241232, -0.22223967, -0.22216919, -0.22165543, -0.22068328,\n",
       "       -0.22006455, -0.2194609 , -0.21895885, -0.21718964, -0.21606648,\n",
       "       -0.21563679, -0.21555579, -0.21465212, -0.21432525, -0.21317923,\n",
       "       -0.21307719, -0.21231601, -0.21231347, -0.21227691, -0.21160281,\n",
       "       -0.21087104, -0.21067595, -0.21052134, -0.20904422, -0.20901746,\n",
       "       -0.20639294, -0.20601887, -0.20552233, -0.20439249, -0.20427617,\n",
       "       -0.20409918, -0.20391005, -0.20374468, -0.20372719, -0.20274809,\n",
       "       -0.201345  , -0.20107526, -0.20012534, -0.20009059, -0.19893914,\n",
       "       -0.19630441, -0.1959857 , -0.19590035, -0.19504249, -0.19440764,\n",
       "       -0.19230622, -0.19229317, -0.19217318, -0.19153541, -0.19021237,\n",
       "       -0.18994799, -0.18892944, -0.18841803, -0.1868102 , -0.18632585,\n",
       "       -0.18603921, -0.18519515, -0.18490869, -0.18412092, -0.18354276,\n",
       "       -0.18078047, -0.18052852, -0.17933038, -0.17927974, -0.17860186,\n",
       "       -0.17859447, -0.17847234, -0.17790729, -0.17709982, -0.17626709,\n",
       "       -0.17558345, -0.17375696, -0.17181852, -0.16989172, -0.16959569,\n",
       "       -0.16857255, -0.16815156, -0.16780615, -0.16706589, -0.16622037,\n",
       "       -0.16605139, -0.1653598 , -0.16535783, -0.16527972, -0.16504258,\n",
       "       -0.1648168 , -0.16411465, -0.1637567 , -0.16310018, -0.16267622,\n",
       "       -0.16062021, -0.160588  , -0.15846527, -0.15844071, -0.15675884,\n",
       "       -0.15562117, -0.15410376, -0.15329105, -0.15165493, -0.14904529,\n",
       "       -0.14875352, -0.14655018, -0.14641288, -0.14585119, -0.14584184,\n",
       "       -0.14525533, -0.14521527, -0.14136535, -0.14002746, -0.13932356,\n",
       "       -0.13873839, -0.13845098, -0.13517678, -0.13286191, -0.13283294,\n",
       "       -0.13254815, -0.13159531, -0.13073003, -0.1272932 , -0.12695369,\n",
       "       -0.12405661, -0.12230963, -0.11993134, -0.11970943, -0.11954242,\n",
       "       -0.11905771, -0.11773473, -0.11720163, -0.11661035, -0.11486238,\n",
       "       -0.11431044, -0.11269051, -0.11247   , -0.11092407, -0.10894352,\n",
       "       -0.10569894, -0.10534549, -0.10475302, -0.09761393, -0.09684077,\n",
       "       -0.09434146, -0.09289578, -0.08697951, -0.08689135, -0.08595043,\n",
       "       -0.08480704, -0.08038235, -0.07938743, -0.07865131, -0.07473439,\n",
       "       -0.07437849, -0.07373196, -0.0734435 , -0.07231265, -0.0711498 ,\n",
       "       -0.07012075, -0.06854087, -0.06743127, -0.06740338, -0.06671324,\n",
       "       -0.06515208, -0.06479368, -0.0633868 , -0.06277859, -0.06005153,\n",
       "       -0.05852666, -0.05419609, -0.04973465, -0.04700762, -0.04561508,\n",
       "       -0.04074895, -0.03992206, -0.03756416, -0.0331943 , -0.03191972,\n",
       "       -0.03134635, -0.03117058, -0.02976322, -0.02627438, -0.02579516,\n",
       "       -0.02557838, -0.02043545, -0.01873708, -0.01842126, -0.01769757,\n",
       "       -0.01762789, -0.01504743, -0.01174483, -0.01125437, -0.00569856,\n",
       "        0.00194076,  0.00324494,  0.02127486,  0.02287751,  0.02420872,\n",
       "        0.02625901,  0.02735013,  0.0307349 ,  0.03294718,  0.03546169,\n",
       "        0.0355933 ,  0.04588038,  0.04592472,  0.04737252,  0.04970074,\n",
       "        0.06052738,  0.06207991,  0.06292653,  0.06920907,  0.07059228,\n",
       "        0.07987672,  0.08003432,  0.08044302,  0.09385556,  0.12137544,\n",
       "        0.13493279,  0.14060599,  0.15230304,  0.17340994,  0.33475322])"
      ]
     },
     "metadata": {},
     "execution_count": 2
    }
   ],
   "source": [
    "np.unique(iterations[2, :])"
   ]
  },
  {
   "cell_type": "code",
   "execution_count": 4,
   "metadata": {},
   "outputs": [
    {
     "output_type": "error",
     "ename": "NameError",
     "evalue": "name 'idx' is not defined",
     "traceback": [
      "\u001b[0;31m---------------------------------------------------------------------------\u001b[0m",
      "\u001b[0;31mNameError\u001b[0m                                 Traceback (most recent call last)",
      "\u001b[0;32m<ipython-input-4-34582676ef36>\u001b[0m in \u001b[0;36m<module>\u001b[0;34m\u001b[0m\n\u001b[0;32m----> 1\u001b[0;31m \u001b[0mlen\u001b[0m\u001b[0;34m(\u001b[0m\u001b[0midx\u001b[0m\u001b[0;34m)\u001b[0m\u001b[0;34m\u001b[0m\u001b[0;34m\u001b[0m\u001b[0m\n\u001b[0m",
      "\u001b[0;31mNameError\u001b[0m: name 'idx' is not defined"
     ]
    }
   ],
   "source": [
    "len(idx)"
   ]
  },
  {
   "cell_type": "code",
   "execution_count": 5,
   "metadata": {},
   "outputs": [
    {
     "output_type": "stream",
     "name": "stdout",
     "text": [
      "(29,)\n"
     ]
    },
    {
     "output_type": "execute_result",
     "data": {
      "text/plain": [
       "[<matplotlib.lines.Line2D at 0x7f5a4d2b70d0>]"
      ]
     },
     "metadata": {},
     "execution_count": 5
    },
    {
     "output_type": "display_data",
     "data": {
      "text/plain": "<Figure size 432x288 with 1 Axes>",
      "image/svg+xml": "<?xml version=\"1.0\" encoding=\"utf-8\" standalone=\"no\"?>\n<!DOCTYPE svg PUBLIC \"-//W3C//DTD SVG 1.1//EN\"\n  \"http://www.w3.org/Graphics/SVG/1.1/DTD/svg11.dtd\">\n<!-- Created with matplotlib (https://matplotlib.org/) -->\n<svg height=\"248.518125pt\" version=\"1.1\" viewBox=\"0 0 368.925 248.518125\" width=\"368.925pt\" xmlns=\"http://www.w3.org/2000/svg\" xmlns:xlink=\"http://www.w3.org/1999/xlink\">\n <defs>\n  <style type=\"text/css\">\n*{stroke-linecap:butt;stroke-linejoin:round;}\n  </style>\n </defs>\n <g id=\"figure_1\">\n  <g id=\"patch_1\">\n   <path d=\"M -0 248.518125 \nL 368.925 248.518125 \nL 368.925 0 \nL -0 0 \nz\n\" style=\"fill:none;\"/>\n  </g>\n  <g id=\"axes_1\">\n   <g id=\"patch_2\">\n    <path d=\"M 26.925 224.64 \nL 361.725 224.64 \nL 361.725 7.2 \nL 26.925 7.2 \nz\n\" style=\"fill:#ffffff;\"/>\n   </g>\n   <g id=\"matplotlib.axis_1\">\n    <g id=\"xtick_1\">\n     <g id=\"line2d_1\">\n      <defs>\n       <path d=\"M 0 0 \nL 0 3.5 \n\" id=\"m44b3717eec\" style=\"stroke:#000000;stroke-width:0.8;\"/>\n      </defs>\n      <g>\n       <use style=\"stroke:#000000;stroke-width:0.8;\" x=\"42.143182\" xlink:href=\"#m44b3717eec\" y=\"224.64\"/>\n      </g>\n     </g>\n     <g id=\"text_1\">\n      <!-- 0 -->\n      <defs>\n       <path d=\"M 31.78125 66.40625 \nQ 24.171875 66.40625 20.328125 58.90625 \nQ 16.5 51.421875 16.5 36.375 \nQ 16.5 21.390625 20.328125 13.890625 \nQ 24.171875 6.390625 31.78125 6.390625 \nQ 39.453125 6.390625 43.28125 13.890625 \nQ 47.125 21.390625 47.125 36.375 \nQ 47.125 51.421875 43.28125 58.90625 \nQ 39.453125 66.40625 31.78125 66.40625 \nz\nM 31.78125 74.21875 \nQ 44.046875 74.21875 50.515625 64.515625 \nQ 56.984375 54.828125 56.984375 36.375 \nQ 56.984375 17.96875 50.515625 8.265625 \nQ 44.046875 -1.421875 31.78125 -1.421875 \nQ 19.53125 -1.421875 13.0625 8.265625 \nQ 6.59375 17.96875 6.59375 36.375 \nQ 6.59375 54.828125 13.0625 64.515625 \nQ 19.53125 74.21875 31.78125 74.21875 \nz\n\" id=\"DejaVuSans-48\"/>\n      </defs>\n      <g transform=\"translate(38.961932 239.238437)scale(0.1 -0.1)\">\n       <use xlink:href=\"#DejaVuSans-48\"/>\n      </g>\n     </g>\n    </g>\n    <g id=\"xtick_2\">\n     <g id=\"line2d_2\">\n      <g>\n       <use style=\"stroke:#000000;stroke-width:0.8;\" x=\"96.493831\" xlink:href=\"#m44b3717eec\" y=\"224.64\"/>\n      </g>\n     </g>\n     <g id=\"text_2\">\n      <!-- 5 -->\n      <defs>\n       <path d=\"M 10.796875 72.90625 \nL 49.515625 72.90625 \nL 49.515625 64.59375 \nL 19.828125 64.59375 \nL 19.828125 46.734375 \nQ 21.96875 47.46875 24.109375 47.828125 \nQ 26.265625 48.1875 28.421875 48.1875 \nQ 40.625 48.1875 47.75 41.5 \nQ 54.890625 34.8125 54.890625 23.390625 \nQ 54.890625 11.625 47.5625 5.09375 \nQ 40.234375 -1.421875 26.90625 -1.421875 \nQ 22.3125 -1.421875 17.546875 -0.640625 \nQ 12.796875 0.140625 7.71875 1.703125 \nL 7.71875 11.625 \nQ 12.109375 9.234375 16.796875 8.0625 \nQ 21.484375 6.890625 26.703125 6.890625 \nQ 35.15625 6.890625 40.078125 11.328125 \nQ 45.015625 15.765625 45.015625 23.390625 \nQ 45.015625 31 40.078125 35.4375 \nQ 35.15625 39.890625 26.703125 39.890625 \nQ 22.75 39.890625 18.8125 39.015625 \nQ 14.890625 38.140625 10.796875 36.28125 \nz\n\" id=\"DejaVuSans-53\"/>\n      </defs>\n      <g transform=\"translate(93.312581 239.238437)scale(0.1 -0.1)\">\n       <use xlink:href=\"#DejaVuSans-53\"/>\n      </g>\n     </g>\n    </g>\n    <g id=\"xtick_3\">\n     <g id=\"line2d_3\">\n      <g>\n       <use style=\"stroke:#000000;stroke-width:0.8;\" x=\"150.844481\" xlink:href=\"#m44b3717eec\" y=\"224.64\"/>\n      </g>\n     </g>\n     <g id=\"text_3\">\n      <!-- 10 -->\n      <defs>\n       <path d=\"M 12.40625 8.296875 \nL 28.515625 8.296875 \nL 28.515625 63.921875 \nL 10.984375 60.40625 \nL 10.984375 69.390625 \nL 28.421875 72.90625 \nL 38.28125 72.90625 \nL 38.28125 8.296875 \nL 54.390625 8.296875 \nL 54.390625 0 \nL 12.40625 0 \nz\n\" id=\"DejaVuSans-49\"/>\n      </defs>\n      <g transform=\"translate(144.481981 239.238437)scale(0.1 -0.1)\">\n       <use xlink:href=\"#DejaVuSans-49\"/>\n       <use x=\"63.623047\" xlink:href=\"#DejaVuSans-48\"/>\n      </g>\n     </g>\n    </g>\n    <g id=\"xtick_4\">\n     <g id=\"line2d_4\">\n      <g>\n       <use style=\"stroke:#000000;stroke-width:0.8;\" x=\"205.19513\" xlink:href=\"#m44b3717eec\" y=\"224.64\"/>\n      </g>\n     </g>\n     <g id=\"text_4\">\n      <!-- 15 -->\n      <g transform=\"translate(198.83263 239.238437)scale(0.1 -0.1)\">\n       <use xlink:href=\"#DejaVuSans-49\"/>\n       <use x=\"63.623047\" xlink:href=\"#DejaVuSans-53\"/>\n      </g>\n     </g>\n    </g>\n    <g id=\"xtick_5\">\n     <g id=\"line2d_5\">\n      <g>\n       <use style=\"stroke:#000000;stroke-width:0.8;\" x=\"259.545779\" xlink:href=\"#m44b3717eec\" y=\"224.64\"/>\n      </g>\n     </g>\n     <g id=\"text_5\">\n      <!-- 20 -->\n      <defs>\n       <path d=\"M 19.1875 8.296875 \nL 53.609375 8.296875 \nL 53.609375 0 \nL 7.328125 0 \nL 7.328125 8.296875 \nQ 12.9375 14.109375 22.625 23.890625 \nQ 32.328125 33.6875 34.8125 36.53125 \nQ 39.546875 41.84375 41.421875 45.53125 \nQ 43.3125 49.21875 43.3125 52.78125 \nQ 43.3125 58.59375 39.234375 62.25 \nQ 35.15625 65.921875 28.609375 65.921875 \nQ 23.96875 65.921875 18.8125 64.3125 \nQ 13.671875 62.703125 7.8125 59.421875 \nL 7.8125 69.390625 \nQ 13.765625 71.78125 18.9375 73 \nQ 24.125 74.21875 28.421875 74.21875 \nQ 39.75 74.21875 46.484375 68.546875 \nQ 53.21875 62.890625 53.21875 53.421875 \nQ 53.21875 48.921875 51.53125 44.890625 \nQ 49.859375 40.875 45.40625 35.40625 \nQ 44.1875 33.984375 37.640625 27.21875 \nQ 31.109375 20.453125 19.1875 8.296875 \nz\n\" id=\"DejaVuSans-50\"/>\n      </defs>\n      <g transform=\"translate(253.183279 239.238437)scale(0.1 -0.1)\">\n       <use xlink:href=\"#DejaVuSans-50\"/>\n       <use x=\"63.623047\" xlink:href=\"#DejaVuSans-48\"/>\n      </g>\n     </g>\n    </g>\n    <g id=\"xtick_6\">\n     <g id=\"line2d_6\">\n      <g>\n       <use style=\"stroke:#000000;stroke-width:0.8;\" x=\"313.896429\" xlink:href=\"#m44b3717eec\" y=\"224.64\"/>\n      </g>\n     </g>\n     <g id=\"text_6\">\n      <!-- 25 -->\n      <g transform=\"translate(307.533929 239.238437)scale(0.1 -0.1)\">\n       <use xlink:href=\"#DejaVuSans-50\"/>\n       <use x=\"63.623047\" xlink:href=\"#DejaVuSans-53\"/>\n      </g>\n     </g>\n    </g>\n   </g>\n   <g id=\"matplotlib.axis_2\">\n    <g id=\"ytick_1\">\n     <g id=\"line2d_7\">\n      <defs>\n       <path d=\"M 0 0 \nL -3.5 0 \n\" id=\"ma82cb8d92e\" style=\"stroke:#000000;stroke-width:0.8;\"/>\n      </defs>\n      <g>\n       <use style=\"stroke:#000000;stroke-width:0.8;\" x=\"26.925\" xlink:href=\"#ma82cb8d92e\" y=\"219.463983\"/>\n      </g>\n     </g>\n     <g id=\"text_7\">\n      <!-- 20 -->\n      <g transform=\"translate(7.2 223.263201)scale(0.1 -0.1)\">\n       <use xlink:href=\"#DejaVuSans-50\"/>\n       <use x=\"63.623047\" xlink:href=\"#DejaVuSans-48\"/>\n      </g>\n     </g>\n    </g>\n    <g id=\"ytick_2\">\n     <g id=\"line2d_8\">\n      <g>\n       <use style=\"stroke:#000000;stroke-width:0.8;\" x=\"26.925\" xlink:href=\"#ma82cb8d92e\" y=\"189.129929\"/>\n      </g>\n     </g>\n     <g id=\"text_8\">\n      <!-- 25 -->\n      <g transform=\"translate(7.2 192.929147)scale(0.1 -0.1)\">\n       <use xlink:href=\"#DejaVuSans-50\"/>\n       <use x=\"63.623047\" xlink:href=\"#DejaVuSans-53\"/>\n      </g>\n     </g>\n    </g>\n    <g id=\"ytick_3\">\n     <g id=\"line2d_9\">\n      <g>\n       <use style=\"stroke:#000000;stroke-width:0.8;\" x=\"26.925\" xlink:href=\"#ma82cb8d92e\" y=\"158.795875\"/>\n      </g>\n     </g>\n     <g id=\"text_9\">\n      <!-- 30 -->\n      <defs>\n       <path d=\"M 40.578125 39.3125 \nQ 47.65625 37.796875 51.625 33 \nQ 55.609375 28.21875 55.609375 21.1875 \nQ 55.609375 10.40625 48.1875 4.484375 \nQ 40.765625 -1.421875 27.09375 -1.421875 \nQ 22.515625 -1.421875 17.65625 -0.515625 \nQ 12.796875 0.390625 7.625 2.203125 \nL 7.625 11.71875 \nQ 11.71875 9.328125 16.59375 8.109375 \nQ 21.484375 6.890625 26.8125 6.890625 \nQ 36.078125 6.890625 40.9375 10.546875 \nQ 45.796875 14.203125 45.796875 21.1875 \nQ 45.796875 27.640625 41.28125 31.265625 \nQ 36.765625 34.90625 28.71875 34.90625 \nL 20.21875 34.90625 \nL 20.21875 43.015625 \nL 29.109375 43.015625 \nQ 36.375 43.015625 40.234375 45.921875 \nQ 44.09375 48.828125 44.09375 54.296875 \nQ 44.09375 59.90625 40.109375 62.90625 \nQ 36.140625 65.921875 28.71875 65.921875 \nQ 24.65625 65.921875 20.015625 65.03125 \nQ 15.375 64.15625 9.8125 62.3125 \nL 9.8125 71.09375 \nQ 15.4375 72.65625 20.34375 73.4375 \nQ 25.25 74.21875 29.59375 74.21875 \nQ 40.828125 74.21875 47.359375 69.109375 \nQ 53.90625 64.015625 53.90625 55.328125 \nQ 53.90625 49.265625 50.4375 45.09375 \nQ 46.96875 40.921875 40.578125 39.3125 \nz\n\" id=\"DejaVuSans-51\"/>\n      </defs>\n      <g transform=\"translate(7.2 162.595093)scale(0.1 -0.1)\">\n       <use xlink:href=\"#DejaVuSans-51\"/>\n       <use x=\"63.623047\" xlink:href=\"#DejaVuSans-48\"/>\n      </g>\n     </g>\n    </g>\n    <g id=\"ytick_4\">\n     <g id=\"line2d_10\">\n      <g>\n       <use style=\"stroke:#000000;stroke-width:0.8;\" x=\"26.925\" xlink:href=\"#ma82cb8d92e\" y=\"128.461821\"/>\n      </g>\n     </g>\n     <g id=\"text_10\">\n      <!-- 35 -->\n      <g transform=\"translate(7.2 132.261039)scale(0.1 -0.1)\">\n       <use xlink:href=\"#DejaVuSans-51\"/>\n       <use x=\"63.623047\" xlink:href=\"#DejaVuSans-53\"/>\n      </g>\n     </g>\n    </g>\n    <g id=\"ytick_5\">\n     <g id=\"line2d_11\">\n      <g>\n       <use style=\"stroke:#000000;stroke-width:0.8;\" x=\"26.925\" xlink:href=\"#ma82cb8d92e\" y=\"98.127767\"/>\n      </g>\n     </g>\n     <g id=\"text_11\">\n      <!-- 40 -->\n      <defs>\n       <path d=\"M 37.796875 64.3125 \nL 12.890625 25.390625 \nL 37.796875 25.390625 \nz\nM 35.203125 72.90625 \nL 47.609375 72.90625 \nL 47.609375 25.390625 \nL 58.015625 25.390625 \nL 58.015625 17.1875 \nL 47.609375 17.1875 \nL 47.609375 0 \nL 37.796875 0 \nL 37.796875 17.1875 \nL 4.890625 17.1875 \nL 4.890625 26.703125 \nz\n\" id=\"DejaVuSans-52\"/>\n      </defs>\n      <g transform=\"translate(7.2 101.926985)scale(0.1 -0.1)\">\n       <use xlink:href=\"#DejaVuSans-52\"/>\n       <use x=\"63.623047\" xlink:href=\"#DejaVuSans-48\"/>\n      </g>\n     </g>\n    </g>\n    <g id=\"ytick_6\">\n     <g id=\"line2d_12\">\n      <g>\n       <use style=\"stroke:#000000;stroke-width:0.8;\" x=\"26.925\" xlink:href=\"#ma82cb8d92e\" y=\"67.793713\"/>\n      </g>\n     </g>\n     <g id=\"text_12\">\n      <!-- 45 -->\n      <g transform=\"translate(7.2 71.592931)scale(0.1 -0.1)\">\n       <use xlink:href=\"#DejaVuSans-52\"/>\n       <use x=\"63.623047\" xlink:href=\"#DejaVuSans-53\"/>\n      </g>\n     </g>\n    </g>\n    <g id=\"ytick_7\">\n     <g id=\"line2d_13\">\n      <g>\n       <use style=\"stroke:#000000;stroke-width:0.8;\" x=\"26.925\" xlink:href=\"#ma82cb8d92e\" y=\"37.459659\"/>\n      </g>\n     </g>\n     <g id=\"text_13\">\n      <!-- 50 -->\n      <g transform=\"translate(7.2 41.258877)scale(0.1 -0.1)\">\n       <use xlink:href=\"#DejaVuSans-53\"/>\n       <use x=\"63.623047\" xlink:href=\"#DejaVuSans-48\"/>\n      </g>\n     </g>\n    </g>\n   </g>\n   <g id=\"line2d_14\">\n    <path clip-path=\"url(#paa282cece4)\" d=\"M 42.143182 214.756364 \nL 53.013312 207.168519 \nL 63.883442 199.271705 \nL 74.753571 191.181703 \nL 85.623701 182.976093 \nL 96.493831 174.665203 \nL 107.363961 166.364273 \nL 118.234091 158.136865 \nL 129.104221 150.064101 \nL 139.974351 142.15691 \nL 150.844481 134.384654 \nL 161.71461 126.760565 \nL 172.58474 119.314425 \nL 183.45487 112.055683 \nL 194.325 104.954944 \nL 205.19513 97.988904 \nL 216.06526 91.138905 \nL 226.93539 84.392702 \nL 237.805519 77.753009 \nL 248.675649 71.201178 \nL 259.545779 64.743056 \nL 270.415909 58.396151 \nL 281.286039 52.155152 \nL 292.156169 46.032232 \nL 303.026299 40.035713 \nL 313.896429 34.160882 \nL 324.766558 28.380504 \nL 335.636688 22.690186 \nL 346.506818 17.083636 \n\" style=\"fill:none;stroke:#1f77b4;stroke-linecap:square;stroke-width:1.5;\"/>\n   </g>\n   <g id=\"patch_3\">\n    <path d=\"M 26.925 224.64 \nL 26.925 7.2 \n\" style=\"fill:none;stroke:#000000;stroke-linecap:square;stroke-linejoin:miter;stroke-width:0.8;\"/>\n   </g>\n   <g id=\"patch_4\">\n    <path d=\"M 361.725 224.64 \nL 361.725 7.2 \n\" style=\"fill:none;stroke:#000000;stroke-linecap:square;stroke-linejoin:miter;stroke-width:0.8;\"/>\n   </g>\n   <g id=\"patch_5\">\n    <path d=\"M 26.925 224.64 \nL 361.725 224.64 \n\" style=\"fill:none;stroke:#000000;stroke-linecap:square;stroke-linejoin:miter;stroke-width:0.8;\"/>\n   </g>\n   <g id=\"patch_6\">\n    <path d=\"M 26.925 7.2 \nL 361.725 7.2 \n\" style=\"fill:none;stroke:#000000;stroke-linecap:square;stroke-linejoin:miter;stroke-width:0.8;\"/>\n   </g>\n  </g>\n </g>\n <defs>\n  <clipPath id=\"paa282cece4\">\n   <rect height=\"217.44\" width=\"334.8\" x=\"26.925\" y=\"7.2\"/>\n  </clipPath>\n </defs>\n</svg>\n",
      "image/png": "[encoded data removed]"
     },
     "metadata": {
      "needs_background": "light"
     }
    }
   ],
   "source": [
    "import matplotlib.pyplot as plt\n",
    "\n",
    "loss = np.sum(iterations**2, axis=1)\n",
    "print(loss.shape)\n",
    "plt.plot(np.arange(0,29), loss[0:30])"
   ]
  },
  {
   "cell_type": "code",
   "execution_count": 3,
   "metadata": {},
   "outputs": [
    {
     "output_type": "execute_result",
     "data": {
      "text/plain": [
       "array([1.11655851e-10, 1.00000000e+00, 1.10377756e-10, 1.00000000e+00,\n",
       "       1.10438401e-10, 1.00000000e+00, 1.10468107e-10, 1.00000000e+00,\n",
       "       1.10438401e-10, 1.00000000e+00, 1.11648607e-10, 1.00000000e+00,\n",
       "       1.11630510e-10, 1.00000000e+00, 1.11630510e-10, 1.00000000e+00,\n",
       "       1.11410992e-10, 1.00000000e+00, 1.10920141e-10, 1.00000000e+00])"
      ]
     },
     "metadata": {},
     "execution_count": 3
    }
   ],
   "source": [
    "iterations[3, 53700:53720]"
   ]
  },
  {
   "cell_type": "code",
   "execution_count": null,
   "metadata": {},
   "outputs": [],
   "source": []
  }
 ],
 "metadata": {
  "kernelspec": {
   "name": "python379jvsc74a57bd0c42a1581f5677a0a7d90bb6a9dba8e9403756260821c8f84f54ade27ed128a5e",
   "display_name": "Python 3.7.9 64-bit ('latest': virtualenv)"
  },
  "language_info": {
   "codemirror_mode": {
    "name": "ipython",
    "version": 3
   },
   "file_extension": ".py",
   "mimetype": "text/x-python",
   "name": "python",
   "nbconvert_exporter": "python",
   "pygments_lexer": "ipython3",
   "version": "3.7.9"
  },
  "toc": {
   "base_numbering": 1,
   "nav_menu": {},
   "number_sections": true,
   "sideBar": true,
   "skip_h1_title": false,
   "title_cell": "Table of Contents",
   "title_sidebar": "Contents",
   "toc_cell": false,
   "toc_position": {
    "height": "525.6px",
    "left": "28px",
    "top": "137.8px",
    "width": "301.109px"
   },
   "toc_section_display": true,
   "toc_window_display": true
  }
 },
 "nbformat": 4,
 "nbformat_minor": 2
}