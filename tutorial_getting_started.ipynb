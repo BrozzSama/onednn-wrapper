{
 "cells": [
  {
   "cell_type": "markdown",
   "metadata": {},
   "source": [
    "# Training a neural network on oneDNN\n",
    "\n",
    "## Objective\n",
    "The goal of this notebook is to walkthrough the procedure of training a simple neural network using oneDNN on GPU.\n"
   ]
  },
  {
   "cell_type": "markdown",
   "metadata": {},
   "source": [
    "***\n",
    "# Environment variables"
   ]
  },
  {
   "cell_type": "markdown",
   "metadata": {},
   "source": [
    "The first step is to setup all the environment variable in order for the compiler to find all the necessary header files.\n"
   ]
  },
  {
   "cell_type": "markdown",
   "metadata": {},
   "source": [
    "Set the installation path of your oneAPI toolkit"
   ]
  },
  {
   "cell_type": "code",
   "execution_count": 1,
   "metadata": {},
   "outputs": [
    {
     "output_type": "stream",
     "name": "stdout",
     "text": [
      "env: ONEAPI_INSTALL=/opt/intel/oneapi\n"
     ]
    }
   ],
   "source": [
    "%env ONEAPI_INSTALL=/opt/intel/oneapi"
   ]
  },
  {
   "cell_type": "code",
   "execution_count": 2,
   "metadata": {},
   "outputs": [],
   "source": [
    "import os\n",
    "if os.path.isdir(os.environ['ONEAPI_INSTALL']) == False:\n",
    "    print(\"ERROR! wrong oneAPI installation path\")"
   ]
  },
  {
   "cell_type": "markdown",
   "metadata": {},
   "source": [
    "# Build and Run with oneAPI DPC++ Compiler \n",
    "one of the oneDNN configurations supports oneAPI DPC++ compiler, and it can run on different architectures by using DPC++.\n",
    "The following section shows you how to build with DPC++ and run on different architectures."
   ]
  },
  {
   "cell_type": "markdown",
   "metadata": {},
   "source": [
    "#### Script - build.sh\n",
    "The script **build.sh** encapsulates the compiler **dpcpp** command and flags that will generate the exectuable.\n",
    "In order to use DPC++ compiler and related SYCL runtime, some definitions must be passed as cmake arguments.\n",
    "Here are related cmake arguments for DPC++ configuration : \n",
    "\n",
    "   -DCMAKE_C_COMPILER=clang -DCMAKE_CXX_COMPILER=dpcpp -DDNNL_CPU_RUNTIME=SYCL -DDNNL_GPU_RUNTIME=SYCL"
   ]
  },
  {
   "cell_type": "code",
   "execution_count": 3,
   "metadata": {},
   "outputs": [
    {
     "output_type": "stream",
     "name": "stdout",
     "text": [
      "Overwriting build.sh\n"
     ]
    }
   ],
   "source": [
    "%%writefile build.sh\n",
    "#!/bin/bash\n",
    "source $ONEAPI_INSTALL/setvars.sh --force> /dev/null 2>&1\n",
    "export EXAMPLE_ROOT=./src/\n",
    "mkdir dpcpp\n",
    "cd dpcpp\n",
    "cmake ../src -DCMAKE_C_COMPILER=clang -DCMAKE_CXX_COMPILER=dpcpp -DDNNL_CPU_RUNTIME=SYCL -DDNNL_GPU_RUNTIME=SYCL\n",
    "make onednn-training-cpp\n",
    "\n"
   ]
  },
  {
   "cell_type": "markdown",
   "metadata": {},
   "source": [
    "Once you achieve an all-clear from your compilation, you execute your program on the DevCloud or a local machine.\n",
    "\n",
    "#### Script - run.sh\n",
    "the script **run.sh** encapsulates the program for submission to the job queue for execution.\n",
    "By default, the built program uses CPU as the execution engine, but the user can switch to GPU by giving an input argument \"gpu\".\n",
    "The user can refer run.sh below to run on GPU.\n",
    "To run on CPU, simply remove the input argument \"gpu\" ."
   ]
  },
  {
   "cell_type": "code",
   "execution_count": 4,
   "metadata": {},
   "outputs": [
    {
     "output_type": "stream",
     "name": "stdout",
     "text": [
      "Overwriting run.sh\n"
     ]
    }
   ],
   "source": [
    "%%writefile run.sh\n",
    "#!/bin/bash\n",
    "source $ONEAPI_INSTALL/setvars.sh --force > /dev/null 2>&1\n",
    "echo \"########## Executing the run\"\n",
    "./dpcpp/onednn-training-cpp gpu\n",
    "echo \"########## Done with the run\"\n"
   ]
  },
  {
   "cell_type": "markdown",
   "metadata": {},
   "source": [
    "\n",
    "#### Submitting **build.sh** and **run.sh** to the job queue\n",
    "Now we can submit the **build.sh** and **run.sh** to the job queue.\n",
    "##### NOTE - it is possible to execute any of the build and run commands in local environments.\n",
    "To enable users to run their scripts both on the Intel DevCloud or in local environments, this and subsequent training checks for the existence of the job submission command **qsub**.  If the check fails, it is assumed that build/run will be local."
   ]
  },
  {
   "cell_type": "code",
   "execution_count": 5,
   "metadata": {
    "scrolled": false
   },
   "outputs": [
    {
     "output_type": "stream",
     "name": "stdout",
     "text": [
      "Submitting job:\n",
      "825792.v-qsvr-1.aidevcloud\n",
      "Job ID                    Name             User            Time Use S Queue\n",
      "------------------------- ---------------- --------------- -------- - -----\n",
      "825792.v-qsvr-1            build.sh         u64761                 0 Q batch          \n",
      "Waiting for Output....................\n",
      "########################################################################\n",
      "#      Date:           Thu 08 Apr 2021 08:04:42 AM PDT\n",
      "#    Job ID:           825792.v-qsvr-1.aidevcloud\n",
      "#      User:           u64761\n",
      "# Resources:           neednodes=1:gpu:ppn=2,nodes=1:gpu:ppn=2,walltime=06:00:00\n",
      "########################################################################\n",
      "\n",
      "-- CMAKE_BUILD_TYPE is unset, defaulting to Release\n",
      "-- The C compiler identification is Clang 12.0.0\n",
      "-- The CXX compiler identification is Clang 12.0.0\n",
      "-- Check for working C compiler: /glob/development-tools/versions/oneapi/2021.2/inteloneapi/compiler/2021.2.0/linux/bin/clang\n",
      "-- Check for working C compiler: /glob/development-tools/versions/oneapi/2021.2/inteloneapi/compiler/2021.2.0/linux/bin/clang -- works\n",
      "-- Detecting C compiler ABI info\n",
      "-- Detecting C compiler ABI info - done\n",
      "-- Detecting C compile features\n",
      "-- Detecting C compile features - done\n",
      "-- Check for working CXX compiler: /glob/development-tools/versions/oneapi/2021.2/inteloneapi/compiler/2021.2.0/linux/bin/dpcpp\n",
      "-- Check for working CXX compiler: /glob/development-tools/versions/oneapi/2021.2/inteloneapi/compiler/2021.2.0/linux/bin/dpcpp -- works\n",
      "-- Detecting CXX compiler ABI info\n",
      "-- Detecting CXX compiler ABI info - done\n",
      "-- Detecting CXX compile features\n",
      "-- Detecting CXX compile features - done\n",
      "-- DNNLROOT: /glob/development-tools/versions/oneapi/2021.2/inteloneapi/dnnl/2021.2.0/cpu_dpcpp_gpu_dpcpp\n",
      "-- Could NOT find OpenMP_C (missing: OpenMP_C_FLAGS OpenMP_C_LIB_NAMES) \n",
      "-- Could NOT find OpenMP_CXX (missing: OpenMP_CXX_FLAGS OpenMP_CXX_LIB_NAMES) \n",
      "-- Could NOT find OpenMP (missing: OpenMP_C_FOUND OpenMP_CXX_FOUND) \n",
      "-- Configuring incomplete, errors occurred!\n",
      "See also \"/home/u64761/onednn_training/dpcpp/CMakeFiles/CMakeOutput.log\".\n",
      "See also \"/home/u64761/onednn_training/dpcpp/CMakeFiles/CMakeError.log\".\n",
      "\n",
      "########################################################################\n",
      "# End of output for job 825792.v-qsvr-1.aidevcloud\n",
      "# Date: Thu 08 Apr 2021 08:04:59 AM PDT\n",
      "########################################################################\n",
      "\n",
      "CMake Error at CMakeLists.txt:92 (find_package):\n",
      "  Could not find a package configuration file provided by \"dnnl\" (requested\n",
      "  version 2.0.0) with any of the following names:\n",
      "\n",
      "    dnnlConfig.cmake\n",
      "    dnnl-config.cmake\n",
      "\n",
      "  Add the installation prefix of \"dnnl\" to CMAKE_PREFIX_PATH or set\n",
      "  \"dnnl_DIR\" to a directory containing one of the above files.  If \"dnnl\"\n",
      "  provides a separate development package or SDK, be sure it has been\n",
      "  installed.\n",
      "\n",
      "\n",
      "make: *** No rule to make target 'onednn-training-cpp'.  Stop.\n",
      "Submitting job:\n",
      "825793.v-qsvr-1.aidevcloud\n",
      "Job ID                    Name             User            Time Use S Queue\n",
      "------------------------- ---------------- --------------- -------- - -----\n",
      "825793.v-qsvr-1            run.sh           u64761                 0 Q batch          \n",
      "Waiting for Output........\n",
      "########################################################################\n",
      "#      Date:           Thu 08 Apr 2021 08:05:01 AM PDT\n",
      "#    Job ID:           825793.v-qsvr-1.aidevcloud\n",
      "#      User:           u64761\n",
      "# Resources:           neednodes=1:gpu:ppn=2,nodes=1:gpu:ppn=2,walltime=06:00:00\n",
      "########################################################################\n",
      "\n",
      "########## Executing the run\n",
      "########## Done with the run\n",
      "\n",
      "########################################################################\n",
      "# End of output for job 825793.v-qsvr-1.aidevcloud\n",
      "# Date: Thu 08 Apr 2021 08:05:07 AM PDT\n",
      "########################################################################\n",
      "\n",
      "/var/spool/torque/mom_priv/jobs/825793.v-qsvr-1.aidevcloud.SC: line 5: ./dpcpp/onednn-training-cpp: No such file or directory\n"
     ]
    }
   ],
   "source": [
    "! rm -rf dpcpp;chmod 755 q; chmod 755 build.sh; chmod 755 run.sh;if [ -x \"$(command -v qsub)\" ]; then ./q build.sh; ./q run.sh; else ./build.sh; ./run.sh; fi"
   ]
  },
  {
   "cell_type": "code",
   "execution_count": null,
   "metadata": {},
   "outputs": [],
   "source": []
  }
 ],
 "metadata": {
  "kernelspec": {
   "name": "python3",
   "display_name": "Python 3.7.9 64-bit ('latest': virtualenv)",
   "metadata": {
    "interpreter": {
     "hash": "c42a1581f5677a0a7d90bb6a9dba8e9403756260821c8f84f54ade27ed128a5e"
    }
   }
  },
  "language_info": {
   "codemirror_mode": {
    "name": "ipython",
    "version": 3
   },
   "file_extension": ".py",
   "mimetype": "text/x-python",
   "name": "python",
   "nbconvert_exporter": "python",
   "pygments_lexer": "ipython3",
   "version": "3.7.9-final"
  },
  "toc": {
   "base_numbering": 1,
   "nav_menu": {},
   "number_sections": true,
   "sideBar": true,
   "skip_h1_title": false,
   "title_cell": "Table of Contents",
   "title_sidebar": "Contents",
   "toc_cell": false,
   "toc_position": {
    "height": "525.6px",
    "left": "28px",
    "top": "137.8px",
    "width": "301.109px"
   },
   "toc_section_display": true,
   "toc_window_display": true
  }
 },
 "nbformat": 4,
 "nbformat_minor": 2
}